{
 "cells": [
  {
   "cell_type": "code",
   "execution_count": 50,
   "metadata": {},
   "outputs": [],
   "source": [
    "import os\n",
    "from dotenv import load_dotenv\n"
   ]
  },
  {
   "cell_type": "code",
   "execution_count": 51,
   "metadata": {},
   "outputs": [
    {
     "data": {
      "text/plain": [
       "True"
      ]
     },
     "execution_count": 51,
     "metadata": {},
     "output_type": "execute_result"
    }
   ],
   "source": [
    "load_dotenv()"
   ]
  },
  {
   "cell_type": "code",
   "execution_count": 52,
   "metadata": {},
   "outputs": [],
   "source": [
    "google_api_key=os.getenv(\"GOOGLE_API_KEY\")"
   ]
  },
  {
   "cell_type": "code",
   "execution_count": 53,
   "metadata": {},
   "outputs": [
    {
     "name": "stdout",
     "output_type": "stream",
     "text": [
      "Api Key is Found !!\n"
     ]
    }
   ],
   "source": [
    "if google_api_key==\"\":\n",
    "    print(\"Api Key is Not Found !!\")\n",
    "else:\n",
    "    print(\"Api Key is Found !!\")"
   ]
  },
  {
   "cell_type": "code",
   "execution_count": 54,
   "metadata": {},
   "outputs": [],
   "source": [
    "from llama_index.core import SimpleDirectoryReader\n",
    "from llama_index.core import VectorStoreIndex\n",
    "from llama_index.llms.gemini import Gemini\n",
    "from IPython.display import Markdown,display\n",
    "from llama_index.core import Settings\n",
    "from llama_index.core import ServiceContext\n",
    "from llama_index.core import StorageContext,load_index_from_storage\n",
    "import google.generativeai as genai\n",
    "from llama_index.embeddings.gemini import GeminiEmbedding"
   ]
  },
  {
   "cell_type": "code",
   "execution_count": 55,
   "metadata": {},
   "outputs": [],
   "source": [
    "genai.configure(api_key=google_api_key)"
   ]
  },
  {
   "cell_type": "code",
   "execution_count": 56,
   "metadata": {},
   "outputs": [
    {
     "name": "stdout",
     "output_type": "stream",
     "text": [
      "models/chat-bison-001\n",
      "models/text-bison-001\n",
      "models/embedding-gecko-001\n",
      "models/gemini-1.0-pro-latest\n",
      "models/gemini-1.0-pro\n",
      "models/gemini-pro\n",
      "models/gemini-1.0-pro-001\n",
      "models/gemini-1.0-pro-vision-latest\n",
      "models/gemini-pro-vision\n",
      "models/gemini-1.5-pro-latest\n",
      "models/gemini-1.5-pro-001\n",
      "models/gemini-1.5-pro-002\n",
      "models/gemini-1.5-pro\n",
      "models/gemini-1.5-pro-exp-0801\n",
      "models/gemini-1.5-pro-exp-0827\n",
      "models/gemini-1.5-flash-latest\n",
      "models/gemini-1.5-flash-001\n",
      "models/gemini-1.5-flash-001-tuning\n",
      "models/gemini-1.5-flash\n",
      "models/gemini-1.5-flash-exp-0827\n",
      "models/gemini-1.5-flash-002\n",
      "models/gemini-1.5-flash-8b\n",
      "models/gemini-1.5-flash-8b-001\n",
      "models/gemini-1.5-flash-8b-latest\n",
      "models/gemini-1.5-flash-8b-exp-0827\n",
      "models/gemini-1.5-flash-8b-exp-0924\n",
      "models/learnlm-1.5-pro-experimental\n",
      "models/gemini-exp-1114\n",
      "models/gemini-exp-1121\n",
      "models/embedding-001\n",
      "models/text-embedding-004\n",
      "models/aqa\n"
     ]
    }
   ],
   "source": [
    "for model in genai.list_models():\n",
    "    print(model.name)"
   ]
  },
  {
   "cell_type": "code",
   "execution_count": 57,
   "metadata": {},
   "outputs": [],
   "source": [
    "docuement=SimpleDirectoryReader(r\"../src/Data\")"
   ]
  },
  {
   "cell_type": "code",
   "execution_count": 58,
   "metadata": {},
   "outputs": [],
   "source": [
    "doc=docuement.load_data()"
   ]
  },
  {
   "cell_type": "code",
   "execution_count": 59,
   "metadata": {},
   "outputs": [
    {
     "data": {
      "text/plain": [
       "'### **Machine Learning: An In-Depth Exploration**\\r\\n\\r\\nMachine Learning (ML) is a subset of artificial intelligence (AI) that enables systems to learn and make decisions without being explicitly programmed. This revolutionary field has transformed industries, empowering applications ranging from personalized recommendations to autonomous vehicles. Below, we delve into the foundational concepts, techniques, applications, challenges, and future trends of machine learning.\\r\\n\\r\\n---\\r\\n\\r\\n### **1. What is Machine Learning?**\\r\\n\\r\\nMachine learning is a scientific discipline focused on developing algorithms that allow computers to learn patterns and make decisions based on data. It operates on the premise that systems can learn from data, identify patterns, and make informed decisions with minimal human intervention.\\r\\n\\r\\nThe concept was first proposed by Arthur Samuel in 1959, who described ML as the ability of a machine to improve its performance on a task through experience.\\r\\n\\r\\n---\\r\\n\\r\\n### **2. Types of Machine Learning**\\r\\n\\r\\nMachine learning is typically categorized into three main types:\\r\\n\\r\\n#### **a. Supervised Learning**\\r\\nIn supervised learning, the algorithm is trained on a labeled dataset, where each input is paired with the correct output. The model learns to map inputs to the desired outputs.\\r\\n\\r\\n- **Example Tasks:** Regression and classification\\r\\n- **Applications:** Spam email detection, image recognition, and sales forecasting\\r\\n- **Popular Algorithms:** Linear regression, logistic regression, support vector machines (SVM), and neural networks\\r\\n\\r\\n#### **b. Unsupervised Learning**\\r\\nUnsupervised learning involves working with unlabeled data. The model identifies patterns and structures within the data without explicit guidance.\\r\\n\\r\\n- **Example Tasks:** Clustering and dimensionality reduction\\r\\n- **Applications:** Customer segmentation, anomaly detection, and recommendation systems\\r\\n- **Popular Algorithms:** K-means clustering, DBSCAN, and PCA (Principal Component Analysis)\\r\\n\\r\\n#### **c. Reinforcement Learning**\\r\\nReinforcement learning is a feedback-driven approach where an agent learns by interacting with an environment and receiving rewards or penalties for its actions.\\r\\n\\r\\n- **Example Tasks:** Policy optimization and decision-making\\r\\n- **Applications:** Game AI, robotic control, and autonomous vehicles\\r\\n- **Popular Algorithms:** Q-learning, Deep Q-Networks (DQN), and Policy Gradient Methods\\r\\n\\r\\n---\\r\\n\\r\\n### **3. Key Components of Machine Learning**\\r\\n\\r\\nTo understand machine learning, it’s essential to grasp the key components that underpin the field:\\r\\n\\r\\n#### **a. Data**\\r\\nData is the backbone of ML. High-quality, diverse, and representative data are essential for building robust models. Data is often divided into:\\r\\n- **Training Set:** Used to train the model\\r\\n- **Validation Set:** Used to fine-tune hyperparameters\\r\\n- **Test Set:** Used to evaluate the model’s performance\\r\\n\\r\\n#### **b. Features**\\r\\nFeatures are the input variables used by the model. Feature engineering—the process of selecting, transforming, and creating features—plays a critical role in improving model performance.\\r\\n\\r\\n#### **c. Algorithms**\\r\\nAlgorithms are the mathematical models or rules used by ML systems to learn from data. The choice of algorithm depends on the nature of the problem and the data.\\r\\n\\r\\n#### **d. Model**\\r\\nAn ML model is the output of an algorithm trained on data. It represents the learned patterns and is used to make predictions.\\r\\n\\r\\n#### **e. Evaluation Metrics**\\r\\nMetrics such as accuracy, precision, recall, F1-score, and mean squared error (MSE) are used to evaluate the model’s performance.\\r\\n\\r\\n---\\r\\n\\r\\n### **4. Steps in the Machine Learning Workflow**\\r\\n\\r\\nThe machine learning process generally follows these steps:\\r\\n\\r\\n#### **Step 1: Problem Definition**\\r\\nClearly define the problem and the objective. For instance, predicting house prices is a regression problem, while identifying spam emails is a classification problem.\\r\\n\\r\\n#### **Step 2: Data Collection**\\r\\nGather data from various sources, ensuring it is relevant, diverse, and representative.\\r\\n\\r\\n#### **Step 3: Data Preprocessing**\\r\\nData often requires cleaning and transformation, including:\\r\\n- Handling missing values\\r\\n- Removing duplicates\\r\\n- Normalizing or standardizing features\\r\\n- Encoding categorical variables\\r\\n\\r\\n#### **Step 4: Feature Engineering**\\r\\nIdentify the most important features, create new ones, and eliminate irrelevant or redundant variables.\\r\\n\\r\\n#### **Step 5: Model Selection**\\r\\nChoose a suitable algorithm based on the problem type and data characteristics.\\r\\n\\r\\n#### **Step 6: Training**\\r\\nTrain the model using the training dataset to learn the patterns.\\r\\n\\r\\n#### **Step 7: Evaluation**\\r\\nAssess the model’s performance using evaluation metrics on the validation dataset.\\r\\n\\r\\n#### **Step 8: Deployment**\\r\\nDeploy the model in a production environment for real-world use.\\r\\n\\r\\n#### **Step 9: Monitoring and Maintenance**\\r\\nContinuously monitor the model’s performance and retrain it as needed to handle data drift and maintain accuracy.\\r\\n\\r\\n---\\r\\n\\r\\n### **5. Applications of Machine Learning**\\r\\n\\r\\nMachine learning has permeated nearly every industry. Below are some prominent applications:\\r\\n\\r\\n#### **a. Healthcare**\\r\\n- Disease diagnosis (e.g., cancer detection through imaging)\\r\\n- Predictive analytics for patient care\\r\\n- Drug discovery and personalized medicine\\r\\n\\r\\n#### **b. Finance**\\r\\n- Fraud detection\\r\\n- Credit scoring and risk assessment\\r\\n- Algorithmic trading\\r\\n\\r\\n#### **c. Retail and E-commerce**\\r\\n- Recommendation systems\\r\\n- Customer segmentation and behavior analysis\\r\\n- Demand forecasting\\r\\n\\r\\n#### **d. Transportation**\\r\\n- Autonomous vehicles\\r\\n- Traffic pattern analysis\\r\\n- Fleet optimization\\r\\n\\r\\n#### **e. Entertainment**\\r\\n- Content recommendation (e.g., Netflix, Spotify)\\r\\n- Real-time translation and transcription\\r\\n- Gaming AI\\r\\n\\r\\n#### **f. Education**\\r\\n- Adaptive learning platforms\\r\\n- Predicting student performance\\r\\n- Automated grading systems\\r\\n\\r\\n---\\r\\n\\r\\n### **6. Challenges in Machine Learning**\\r\\n\\r\\nWhile ML holds immense potential, it also faces several challenges:\\r\\n\\r\\n#### **a. Data Challenges**\\r\\n- **Data Quality:** Poor-quality data leads to unreliable models.\\r\\n- **Data Scarcity:** Insufficient data can hinder model training.\\r\\n- **Data Bias:** Bias in data can result in unfair predictions.\\r\\n\\r\\n#### **b. Algorithmic Challenges**\\r\\n- Overfitting: The model performs well on training data but poorly on unseen data.\\r\\n- Underfitting: The model fails to capture the underlying patterns in the data.\\r\\n\\r\\n#### **c. Interpretability**\\r\\nComplex models like deep neural networks often act as \"black boxes,\" making it difficult to understand how decisions are made.\\r\\n\\r\\n#### **d. Computational Costs**\\r\\nTraining large models, especially deep learning networks, requires substantial computational resources.\\r\\n\\r\\n---\\r\\n\\r\\n### **7. Emerging Trends in Machine Learning**\\r\\n\\r\\n#### **a. Federated Learning**\\r\\nFederated learning enables training models across decentralized devices while preserving data privacy.\\r\\n\\r\\n#### **b. Explainable AI (XAI)**\\r\\nXAI focuses on making ML models transparent and interpretable, fostering trust in AI systems.\\r\\n\\r\\n#### **c. AutoML**\\r\\nAutomated machine learning (AutoML) simplifies the ML workflow by automating tasks like model selection and hyperparameter tuning.\\r\\n\\r\\n#### **d. Generative AI**\\r\\nModels like GPT (Generative Pre-trained Transformer) and GANs (Generative Adversarial Networks) are advancing capabilities in content generation.\\r\\n\\r\\n#### **e. Edge AI**\\r\\nDeploying ML models on edge devices (e.g., smartphones, IoT devices) reduces latency and enhances privacy.\\r\\n\\r\\n---\\r\\n\\r\\n### **8. Future of Machine Learning**\\r\\n\\r\\nThe future of machine learning is bright and full of possibilities:\\r\\n- **Integration with IoT:** ML will enhance IoT devices by enabling smarter decision-making.\\r\\n- **AI for Social Good:** From disaster prediction to conservation efforts, ML will play a vital role in tackling global challenges.\\r\\n- **Quantum Computing:** Quantum ML promises to solve complex problems faster than classical methods.\\r\\n\\r\\n---\\r\\n\\r\\n### **9. Ethical Considerations**\\r\\n\\r\\nAs ML systems grow in influence, addressing ethical concerns is crucial:\\r\\n- **Bias and Fairness:** Ensuring algorithms do not perpetuate societal biases\\r\\n- **Privacy:** Protecting user data in compliance with regulations like GDPR\\r\\n- **Accountability:** Defining responsibility for decisions made by AI systems\\r\\n\\r\\n---\\r\\n\\r\\n### **10. Conclusion**\\r\\n\\r\\nMachine learning is a transformative technology shaping the future of industries and societies. By harnessing data and computational power, ML provides solutions to complex problems, offering unprecedented opportunities for innovation. However, addressing its challenges and ethical considerations is imperative to ensure responsible and impactful deployment.'"
      ]
     },
     "execution_count": 59,
     "metadata": {},
     "output_type": "execute_result"
    }
   ],
   "source": [
    "doc[0].text"
   ]
  },
  {
   "cell_type": "code",
   "execution_count": 60,
   "metadata": {},
   "outputs": [
    {
     "data": {
      "text/plain": [
       "[Document(id_='b71fa199-8db1-4ac6-83b6-3d277f1b25cc', embedding=None, metadata={'file_path': 'd:\\\\Generative AI Preparation\\\\Gen Ai Project\\\\QA_System\\\\notebook\\\\..\\\\src\\\\Data\\\\machine.txt', 'file_name': 'machine.txt', 'file_type': 'text/plain', 'file_size': 8811, 'creation_date': '2024-12-03', 'last_modified_date': '2024-12-03'}, excluded_embed_metadata_keys=['file_name', 'file_type', 'file_size', 'creation_date', 'last_modified_date', 'last_accessed_date'], excluded_llm_metadata_keys=['file_name', 'file_type', 'file_size', 'creation_date', 'last_modified_date', 'last_accessed_date'], relationships={}, metadata_template='{key}: {value}', metadata_separator='\\n', text='### **Machine Learning: An In-Depth Exploration**\\r\\n\\r\\nMachine Learning (ML) is a subset of artificial intelligence (AI) that enables systems to learn and make decisions without being explicitly programmed. This revolutionary field has transformed industries, empowering applications ranging from personalized recommendations to autonomous vehicles. Below, we delve into the foundational concepts, techniques, applications, challenges, and future trends of machine learning.\\r\\n\\r\\n---\\r\\n\\r\\n### **1. What is Machine Learning?**\\r\\n\\r\\nMachine learning is a scientific discipline focused on developing algorithms that allow computers to learn patterns and make decisions based on data. It operates on the premise that systems can learn from data, identify patterns, and make informed decisions with minimal human intervention.\\r\\n\\r\\nThe concept was first proposed by Arthur Samuel in 1959, who described ML as the ability of a machine to improve its performance on a task through experience.\\r\\n\\r\\n---\\r\\n\\r\\n### **2. Types of Machine Learning**\\r\\n\\r\\nMachine learning is typically categorized into three main types:\\r\\n\\r\\n#### **a. Supervised Learning**\\r\\nIn supervised learning, the algorithm is trained on a labeled dataset, where each input is paired with the correct output. The model learns to map inputs to the desired outputs.\\r\\n\\r\\n- **Example Tasks:** Regression and classification\\r\\n- **Applications:** Spam email detection, image recognition, and sales forecasting\\r\\n- **Popular Algorithms:** Linear regression, logistic regression, support vector machines (SVM), and neural networks\\r\\n\\r\\n#### **b. Unsupervised Learning**\\r\\nUnsupervised learning involves working with unlabeled data. The model identifies patterns and structures within the data without explicit guidance.\\r\\n\\r\\n- **Example Tasks:** Clustering and dimensionality reduction\\r\\n- **Applications:** Customer segmentation, anomaly detection, and recommendation systems\\r\\n- **Popular Algorithms:** K-means clustering, DBSCAN, and PCA (Principal Component Analysis)\\r\\n\\r\\n#### **c. Reinforcement Learning**\\r\\nReinforcement learning is a feedback-driven approach where an agent learns by interacting with an environment and receiving rewards or penalties for its actions.\\r\\n\\r\\n- **Example Tasks:** Policy optimization and decision-making\\r\\n- **Applications:** Game AI, robotic control, and autonomous vehicles\\r\\n- **Popular Algorithms:** Q-learning, Deep Q-Networks (DQN), and Policy Gradient Methods\\r\\n\\r\\n---\\r\\n\\r\\n### **3. Key Components of Machine Learning**\\r\\n\\r\\nTo understand machine learning, it’s essential to grasp the key components that underpin the field:\\r\\n\\r\\n#### **a. Data**\\r\\nData is the backbone of ML. High-quality, diverse, and representative data are essential for building robust models. Data is often divided into:\\r\\n- **Training Set:** Used to train the model\\r\\n- **Validation Set:** Used to fine-tune hyperparameters\\r\\n- **Test Set:** Used to evaluate the model’s performance\\r\\n\\r\\n#### **b. Features**\\r\\nFeatures are the input variables used by the model. Feature engineering—the process of selecting, transforming, and creating features—plays a critical role in improving model performance.\\r\\n\\r\\n#### **c. Algorithms**\\r\\nAlgorithms are the mathematical models or rules used by ML systems to learn from data. The choice of algorithm depends on the nature of the problem and the data.\\r\\n\\r\\n#### **d. Model**\\r\\nAn ML model is the output of an algorithm trained on data. It represents the learned patterns and is used to make predictions.\\r\\n\\r\\n#### **e. Evaluation Metrics**\\r\\nMetrics such as accuracy, precision, recall, F1-score, and mean squared error (MSE) are used to evaluate the model’s performance.\\r\\n\\r\\n---\\r\\n\\r\\n### **4. Steps in the Machine Learning Workflow**\\r\\n\\r\\nThe machine learning process generally follows these steps:\\r\\n\\r\\n#### **Step 1: Problem Definition**\\r\\nClearly define the problem and the objective. For instance, predicting house prices is a regression problem, while identifying spam emails is a classification problem.\\r\\n\\r\\n#### **Step 2: Data Collection**\\r\\nGather data from various sources, ensuring it is relevant, diverse, and representative.\\r\\n\\r\\n#### **Step 3: Data Preprocessing**\\r\\nData often requires cleaning and transformation, including:\\r\\n- Handling missing values\\r\\n- Removing duplicates\\r\\n- Normalizing or standardizing features\\r\\n- Encoding categorical variables\\r\\n\\r\\n#### **Step 4: Feature Engineering**\\r\\nIdentify the most important features, create new ones, and eliminate irrelevant or redundant variables.\\r\\n\\r\\n#### **Step 5: Model Selection**\\r\\nChoose a suitable algorithm based on the problem type and data characteristics.\\r\\n\\r\\n#### **Step 6: Training**\\r\\nTrain the model using the training dataset to learn the patterns.\\r\\n\\r\\n#### **Step 7: Evaluation**\\r\\nAssess the model’s performance using evaluation metrics on the validation dataset.\\r\\n\\r\\n#### **Step 8: Deployment**\\r\\nDeploy the model in a production environment for real-world use.\\r\\n\\r\\n#### **Step 9: Monitoring and Maintenance**\\r\\nContinuously monitor the model’s performance and retrain it as needed to handle data drift and maintain accuracy.\\r\\n\\r\\n---\\r\\n\\r\\n### **5. Applications of Machine Learning**\\r\\n\\r\\nMachine learning has permeated nearly every industry. Below are some prominent applications:\\r\\n\\r\\n#### **a. Healthcare**\\r\\n- Disease diagnosis (e.g., cancer detection through imaging)\\r\\n- Predictive analytics for patient care\\r\\n- Drug discovery and personalized medicine\\r\\n\\r\\n#### **b. Finance**\\r\\n- Fraud detection\\r\\n- Credit scoring and risk assessment\\r\\n- Algorithmic trading\\r\\n\\r\\n#### **c. Retail and E-commerce**\\r\\n- Recommendation systems\\r\\n- Customer segmentation and behavior analysis\\r\\n- Demand forecasting\\r\\n\\r\\n#### **d. Transportation**\\r\\n- Autonomous vehicles\\r\\n- Traffic pattern analysis\\r\\n- Fleet optimization\\r\\n\\r\\n#### **e. Entertainment**\\r\\n- Content recommendation (e.g., Netflix, Spotify)\\r\\n- Real-time translation and transcription\\r\\n- Gaming AI\\r\\n\\r\\n#### **f. Education**\\r\\n- Adaptive learning platforms\\r\\n- Predicting student performance\\r\\n- Automated grading systems\\r\\n\\r\\n---\\r\\n\\r\\n### **6. Challenges in Machine Learning**\\r\\n\\r\\nWhile ML holds immense potential, it also faces several challenges:\\r\\n\\r\\n#### **a. Data Challenges**\\r\\n- **Data Quality:** Poor-quality data leads to unreliable models.\\r\\n- **Data Scarcity:** Insufficient data can hinder model training.\\r\\n- **Data Bias:** Bias in data can result in unfair predictions.\\r\\n\\r\\n#### **b. Algorithmic Challenges**\\r\\n- Overfitting: The model performs well on training data but poorly on unseen data.\\r\\n- Underfitting: The model fails to capture the underlying patterns in the data.\\r\\n\\r\\n#### **c. Interpretability**\\r\\nComplex models like deep neural networks often act as \"black boxes,\" making it difficult to understand how decisions are made.\\r\\n\\r\\n#### **d. Computational Costs**\\r\\nTraining large models, especially deep learning networks, requires substantial computational resources.\\r\\n\\r\\n---\\r\\n\\r\\n### **7. Emerging Trends in Machine Learning**\\r\\n\\r\\n#### **a. Federated Learning**\\r\\nFederated learning enables training models across decentralized devices while preserving data privacy.\\r\\n\\r\\n#### **b. Explainable AI (XAI)**\\r\\nXAI focuses on making ML models transparent and interpretable, fostering trust in AI systems.\\r\\n\\r\\n#### **c. AutoML**\\r\\nAutomated machine learning (AutoML) simplifies the ML workflow by automating tasks like model selection and hyperparameter tuning.\\r\\n\\r\\n#### **d. Generative AI**\\r\\nModels like GPT (Generative Pre-trained Transformer) and GANs (Generative Adversarial Networks) are advancing capabilities in content generation.\\r\\n\\r\\n#### **e. Edge AI**\\r\\nDeploying ML models on edge devices (e.g., smartphones, IoT devices) reduces latency and enhances privacy.\\r\\n\\r\\n---\\r\\n\\r\\n### **8. Future of Machine Learning**\\r\\n\\r\\nThe future of machine learning is bright and full of possibilities:\\r\\n- **Integration with IoT:** ML will enhance IoT devices by enabling smarter decision-making.\\r\\n- **AI for Social Good:** From disaster prediction to conservation efforts, ML will play a vital role in tackling global challenges.\\r\\n- **Quantum Computing:** Quantum ML promises to solve complex problems faster than classical methods.\\r\\n\\r\\n---\\r\\n\\r\\n### **9. Ethical Considerations**\\r\\n\\r\\nAs ML systems grow in influence, addressing ethical concerns is crucial:\\r\\n- **Bias and Fairness:** Ensuring algorithms do not perpetuate societal biases\\r\\n- **Privacy:** Protecting user data in compliance with regulations like GDPR\\r\\n- **Accountability:** Defining responsibility for decisions made by AI systems\\r\\n\\r\\n---\\r\\n\\r\\n### **10. Conclusion**\\r\\n\\r\\nMachine learning is a transformative technology shaping the future of industries and societies. By harnessing data and computational power, ML provides solutions to complex problems, offering unprecedented opportunities for innovation. However, addressing its challenges and ethical considerations is imperative to ensure responsible and impactful deployment.', mimetype='text/plain', start_char_idx=None, end_char_idx=None, metadata_seperator='\\n', text_template='{metadata_str}\\n\\n{content}')]"
      ]
     },
     "execution_count": 60,
     "metadata": {},
     "output_type": "execute_result"
    }
   ],
   "source": [
    "doc"
   ]
  },
  {
   "cell_type": "code",
   "execution_count": 61,
   "metadata": {},
   "outputs": [],
   "source": [
    "model=Gemini(models='gemini-pro',api_key=google_api_key)"
   ]
  },
  {
   "cell_type": "code",
   "execution_count": 62,
   "metadata": {},
   "outputs": [],
   "source": [
    "gemini_embbed=GeminiEmbedding(model_name=\"models/embedding-001\")"
   ]
  },
  {
   "cell_type": "code",
   "execution_count": 63,
   "metadata": {},
   "outputs": [],
   "source": [
    "# serviceContext=ServiceContext.from_defaults(llm=model,embed_model=gemini_embbed,chunk_size=800,chunk_overlap=20)\n",
    "from llama_index.core import Settings\n",
    "Settings.llm=model\n",
    "Settings.embed_model=gemini_embbed\n",
    "Settings.chunk_size=800\n",
    "Settings.chunk_overlap=20\n"
   ]
  },
  {
   "cell_type": "code",
   "execution_count": 64,
   "metadata": {},
   "outputs": [],
   "source": [
    "index=VectorStoreIndex.from_documents(doc,embed_model=gemini_embbed)\n",
    "query_engine=index.as_query_engine(llm=model)"
   ]
  },
  {
   "cell_type": "code",
   "execution_count": 65,
   "metadata": {},
   "outputs": [],
   "source": [
    "index.storage_context.persist()"
   ]
  },
  {
   "cell_type": "code",
   "execution_count": 68,
   "metadata": {},
   "outputs": [],
   "source": [
    "response=query_engine.query(\"what is machine learning ??\")"
   ]
  },
  {
   "cell_type": "code",
   "execution_count": 69,
   "metadata": {},
   "outputs": [
    {
     "name": "stdout",
     "output_type": "stream",
     "text": [
      "Machine learning is a transformative technology that uses data and computational power to solve complex problems and drive innovation across industries and societies.  It offers solutions to complex problems and creates unprecedented opportunities.  However, responsible and impactful deployment requires addressing its challenges and ethical considerations.\n",
      "\n"
     ]
    }
   ],
   "source": [
    "print(response)"
   ]
  },
  {
   "cell_type": "code",
   "execution_count": 71,
   "metadata": {},
   "outputs": [
    {
     "data": {
      "text/plain": [
       "'Supervised learning uses labeled data where each input is paired with the correct output, allowing the algorithm to learn to map inputs to desired outputs.  Unsupervised learning, conversely, works with unlabeled data, where the model identifies patterns and structures without explicit guidance.\\n'"
      ]
     },
     "execution_count": 71,
     "metadata": {},
     "output_type": "execute_result"
    }
   ],
   "source": [
    "query_engine.query(\"what is difference between supervised learning and unsupervised learning ?\").response"
   ]
  },
  {
   "cell_type": "code",
   "execution_count": null,
   "metadata": {},
   "outputs": [],
   "source": []
  }
 ],
 "metadata": {
  "kernelspec": {
   "display_name": "venv",
   "language": "python",
   "name": "python3"
  },
  "language_info": {
   "codemirror_mode": {
    "name": "ipython",
    "version": 3
   },
   "file_extension": ".py",
   "mimetype": "text/x-python",
   "name": "python",
   "nbconvert_exporter": "python",
   "pygments_lexer": "ipython3",
   "version": "3.11.4"
  }
 },
 "nbformat": 4,
 "nbformat_minor": 2
}
